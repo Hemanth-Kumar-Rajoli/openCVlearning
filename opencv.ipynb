{
 "cells": [
  {
   "cell_type": "markdown",
   "id": "47ce07cf",
   "metadata": {},
   "source": [
    "pip install opencv-contrib-python"
   ]
  },
  {
   "cell_type": "markdown",
   "id": "60103dfa",
   "metadata": {},
   "source": [
    "import caer"
   ]
  },
  {
   "cell_type": "raw",
   "id": "37fb7307",
   "metadata": {},
   "source": [
    "imshow method takes second argu \n",
    "\n",
    "cv2.IMREAD_COLOR: It specifies to load a color image. Any transparency of image will be neglected. It is the default flag. Alternatively, we can pass integer value 1 for this flag.\n",
    "cv2.IMREAD_GRAYSCALE: It specifies to load an image in grayscale mode. Alternatively, we can pass integer value 0 for this flag.\n",
    "cv2.IMREAD_UNCHANGED: It specifies to load an image as such including alpha channel. Alternatively, we can pass integer value -1 for this flag."
   ]
  },
  {
   "cell_type": "markdown",
   "id": "1603162c",
   "metadata": {},
   "source": [
    "# roi"
   ]
  },
  {
   "cell_type": "markdown",
   "id": "250ea4a4",
   "metadata": {},
   "source": [
    "# Thresholding"
   ]
  },
  {
   "cell_type": "raw",
   "id": "42359c2d",
   "metadata": {},
   "source": [
    "_,th1 = cv.threshold(img,a,b,type)\n",
    "img = gray image\n",
    "a = lover scale\n",
    "b = upper scale\n",
    "type = threshold type\n",
    "    cv.THRESH_BINARY(less than a assigned as 0 and between a and b as 1)\n",
    "    cv.THRESH_BINARY_INV\n",
    "    cv.THRESH_TRUNC(less than a assigned as same after a we be assingned as a)\n",
    "    cv.THRESH_TOZERO(less than a consider as 0 after that is same)\n",
    "    cv.THRESH_TOZERO_INV\n",
    "    "
   ]
  },
  {
   "cell_type": "markdown",
   "id": "db4d8b87",
   "metadata": {},
   "source": [
    "# Adaptive thresholding"
   ]
  },
  {
   "cell_type": "raw",
   "id": "b71dcc93",
   "metadata": {},
   "source": [
    "th = cv.adaptiveTheresholding(img,255,cv.ADAPTIVE_THERESH_MEAN_C,type,blockSize,extra)\n",
    "255 = max threshold value\n",
    "blockSize = area to take mean of box and consider that as min thresh for that area\n",
    "extra = that is added to the result image"
   ]
  },
  {
   "cell_type": "markdown",
   "id": "9e43344e",
   "metadata": {},
   "source": [
    "# matplot"
   ]
  },
  {
   "cell_type": "raw",
   "id": "855edacc",
   "metadata": {},
   "source": [
    "from matplotlib import pyplot as plt\n",
    "import cv2 as cv\n",
    "\n",
    "img = cv.imread('lena.jpg',-1)\n",
    "cv.imshow('image',img)\n",
    "\n",
    "#img2 = cv.cvtColor(img,cv.COLOR_BGR2RGB)\n",
    "#plt.imshow(img2)\n",
    "for i in range(5):\n",
    "    plt.subplot(2,3,i+1)\n",
    "    plt.imshow(img2)\n",
    "    plt.xticks([]) # to remove the axis values\n",
    "    plt.yticks([])\n",
    "plt.show()\n",
    "cv.waitKey(0)\n"
   ]
  },
  {
   "cell_type": "markdown",
   "id": "deff599a",
   "metadata": {},
   "source": [
    "# mouse events"
   ]
  },
  {
   "cell_type": "raw",
   "id": "2ac358d2",
   "metadata": {},
   "source": [
    "import cv2 as cv\n",
    "import numpy as np\n",
    "print([i for i in dir(cv) if \"EVENT\" in i])\n",
    "img = np.zeros((512,512,3),np.uint8)\n",
    "cv.imshow('cam',img)\n",
    "def mouseClick(Event,x,y,flag,param):\n",
    "    global img\n",
    "    if(Event==cv.EVENT_LBUTTONDOWN):\n",
    "        print(x,y)\n",
    "        font = cv.FONT_HERSHEY_SIMPLEX\n",
    "        img = cv.putText(img,(str(x)+\" \"+str(y)),(x,y),font,.5,(255,255,255),4,cv.LINE_AA)\n",
    "        cv.imshow('cam',img)\n",
    "\n",
    "cv.setMouseCallback('cam',mouseClick)\n",
    "\n",
    "cv.waitKey(0)\n",
    "cv.destroyAllWindows()\n"
   ]
  },
  {
   "cell_type": "markdown",
   "id": "8a895c02",
   "metadata": {},
   "source": [
    "# kernal"
   ]
  },
  {
   "cell_type": "markdown",
   "id": "f49bd517",
   "metadata": {},
   "source": [
    "kernal is a matrix which is used for image edge detection, sharpning and bluring of images"
   ]
  },
  {
   "cell_type": "markdown",
   "id": "c338d608",
   "metadata": {},
   "source": [
    "kernal has differnt types of kernal predefined matrix pls check it in the wekipidea pages as \"kernal in image processing\""
   ]
  },
  {
   "cell_type": "markdown",
   "id": "c8f03aa1",
   "metadata": {},
   "source": [
    "may be kernal perfom multiplication operation between original image and the kernal matrix"
   ]
  },
  {
   "cell_type": "markdown",
   "id": "d572e1c6",
   "metadata": {},
   "source": [
    "# morphological transformations"
   ]
  },
  {
   "cell_type": "markdown",
   "id": "20db6fe9",
   "metadata": {},
   "source": [
    "are normallu performed on the binary images"
   ]
  },
  {
   "cell_type": "markdown",
   "id": "2e4c30bb",
   "metadata": {},
   "source": [
    "# dilation"
   ]
  },
  {
   "cell_type": "raw",
   "id": "cbd24991",
   "metadata": {},
   "source": [
    "from matplotlib import pyplot as plt\n",
    "import cv2 as cv\n",
    "import numpy as np\n",
    "\n",
    "img = cv.imread('smarties.png',0)\n",
    "img = cv.cvtColor(img,cv.COLOR_BGR2RGB)\n",
    "cv.imshow(\"my image\",img)\n",
    "_,thres_mask = cv.threshold(img,200,255,cv.THRESH_BINARY_INV)\n",
    "\n",
    "kernal = np.ones((2,2),np.uint8)\n",
    "\n",
    "dilation = cv.dilate(thres_mask,kernal,iterations=3);\n",
    "\n",
    "names = ['original','mask','dilation'];\n",
    "imags = [img,thres_mask,dilation]\n",
    "count=0\n",
    "for i in zip(names,imags):\n",
    "    count+=1\n",
    "    plt.subplot(1,3,count)\n",
    "    plt.imshow(i[1])\n",
    "       plt.title(i[0])\n",
    "plt.show()\n",
    "cv.waitKey(0)\n"
   ]
  },
  {
   "cell_type": "markdown",
   "id": "8c7969e5",
   "metadata": {},
   "source": [
    "# erosion"
   ]
  },
  {
   "cell_type": "markdown",
   "id": "04a7ba15",
   "metadata": {},
   "source": [
    "it removes the foreground edges"
   ]
  },
  {
   "cell_type": "raw",
   "id": "ae3d97b4",
   "metadata": {},
   "source": [
    "erosion = cv.erode(mask,kernal,iteration=2)"
   ]
  },
  {
   "cell_type": "markdown",
   "id": "685c3f67",
   "metadata": {},
   "source": [
    "# opening"
   ]
  },
  {
   "cell_type": "raw",
   "id": "a58ce3c6",
   "metadata": {},
   "source": [
    "it is morphology thing which will perform erosion first and then dilation next"
   ]
  },
  {
   "cell_type": "raw",
   "id": "ad146c83",
   "metadata": {},
   "source": [
    "opening = cv.morphologyEX(mask,cv.MORPH_OPEN,kernal)"
   ]
  },
  {
   "cell_type": "markdown",
   "id": "5600c02f",
   "metadata": {},
   "source": [
    "# closing"
   ]
  },
  {
   "cell_type": "raw",
   "id": "84bc0d56",
   "metadata": {},
   "source": [
    "it is morphology thing which will perform dilation first and then erosion"
   ]
  },
  {
   "cell_type": "raw",
   "id": "7ac93367",
   "metadata": {},
   "source": [
    "closing = cv.morphologyEX(mask,cv.MORPH_CLOSE,kernal)"
   ]
  },
  {
   "cell_type": "markdown",
   "id": "0623ab49",
   "metadata": {},
   "source": [
    "# smoothing or blurring"
   ]
  },
  {
   "cell_type": "markdown",
   "id": "25d7bc47",
   "metadata": {},
   "source": [
    "# Homogeneous filter"
   ]
  },
  {
   "cell_type": "markdown",
   "id": "0985395b",
   "metadata": {},
   "source": [
    "is the most simple filter,each output pixel is the mean of its kernel neighbors"
   ]
  },
  {
   "cell_type": "raw",
   "id": "1994b455",
   "metadata": {},
   "source": [
    "dst = cv.filter2D(img,-1,kernal)"
   ]
  },
  {
   "cell_type": "markdown",
   "id": "502f4319",
   "metadata": {},
   "source": [
    "As in one-dimensional signals, images alsocan be diltered with various low-pass filters(LPF), high-pass filters(HPF) etc.\n",
    "lpf - helps in removing noises, blurring the images.\n",
    "hpf - helps in finding edges in the images."
   ]
  },
  {
   "cell_type": "raw",
   "id": "a3697599",
   "metadata": {},
   "source": [
    "blur = cv.blue(img,(5,5));"
   ]
  },
  {
   "cell_type": "markdown",
   "id": "ce1e9f99",
   "metadata": {},
   "source": [
    "gaussian filter is nothing but using different-weight-kernel, in both x and y direction(middle has more weight and border has lesser weight)"
   ]
  },
  {
   "cell_type": "raw",
   "id": "71b9ce66",
   "metadata": {},
   "source": [
    "gblur = cv.gaussianBlur(img,(5,5),0)"
   ]
  },
  {
   "cell_type": "raw",
   "id": "d69c02be",
   "metadata": {},
   "source": [
    "median filter is something that replace each pixels value with the meddain of its neighbouring pixels. This method is great when dealing with \"salt and pepper noise\"."
   ]
  },
  {
   "cell_type": "raw",
   "id": "3ccc6a59",
   "metadata": {},
   "source": [
    "median = cv.medianBlue(img,5)"
   ]
  },
  {
   "cell_type": "markdown",
   "id": "4478171f",
   "metadata": {},
   "source": [
    "# image gradient"
   ]
  },
  {
   "cell_type": "markdown",
   "id": "b555682f",
   "metadata": {},
   "source": [
    "an image gradient is a direction change in the intensity or color in an image"
   ]
  },
  {
   "cell_type": "markdown",
   "id": "5e06031b",
   "metadata": {},
   "source": [
    "laplacain = finds the edges"
   ]
  },
  {
   "cell_type": "code",
   "execution_count": null,
   "id": "8b925b98",
   "metadata": {},
   "outputs": [],
   "source": [
    "lap = cv.Laplacian(img,cv.cv_64F,ksize=1)\n",
    "lap = np.uint8(np.absolute(lap))"
   ]
  },
  {
   "cell_type": "markdown",
   "id": "a30db5b8",
   "metadata": {},
   "source": [
    "# Object detection"
   ]
  },
  {
   "cell_type": "raw",
   "id": "9b786c4d",
   "metadata": {},
   "source": [
    "1) convert image to hsv color\n",
    "    cv.cvtColor(img,cv.COLOR_BGR2HSV)\n",
    "2) lower bound and higher bound\n",
    "    l_b = np.array([110,50,50]) same like u_b\n",
    "3) create mask using inrange\n",
    "    mask = cv.inRange(l_b,u_b)\n",
    "4) bitwise and for mask and original image\n",
    "    res = cv.bitwise_and(frame,frame,mask=mask)"
   ]
  },
  {
   "cell_type": "markdown",
   "id": "d8f53304",
   "metadata": {},
   "source": [
    "# Track bars"
   ]
  },
  {
   "cell_type": "raw",
   "id": "99971e52",
   "metadata": {},
   "source": [
    "cv.namedWindow(windowName)\n",
    "cv.createTrackbar(barname,windowName,loweValue,uppervalue,nothing)"
   ]
  },
  {
   "cell_type": "markdown",
   "id": "c303b6fc",
   "metadata": {},
   "source": [
    "# contours"
   ]
  },
  {
   "cell_type": "markdown",
   "id": "350bd3ac",
   "metadata": {},
   "source": [
    "to find the edges like thing"
   ]
  },
  {
   "cell_type": "markdown",
   "id": "174dbd65",
   "metadata": {},
   "source": [
    "contours is a python list of all the contours in the image. Each individual contours is a numpy array of (x,y) coordindates of boundarys points of thej object."
   ]
  },
  {
   "cell_type": "raw",
   "id": "12190f6c",
   "metadata": {},
   "source": [
    "1) image must be gray\n",
    "2) threshold (as type 0 given by instructor)\n",
    "3) contours,hirarchy = cv.findContours(threshold,cv2.RETR_TREE,cv.CHAIN_APPROX_SIMPLE)\n",
    "4) draw contours using drawcontour method\n",
    "    cv.drawContours(image,contours,index,color)\n",
    "    index(-1 means all contours or we can specify only specific contours to draw by there array indexes)\n",
    "    color = BGR color"
   ]
  },
  {
   "cell_type": "markdown",
   "id": "36b649da",
   "metadata": {},
   "source": [
    "# Movement detection"
   ]
  },
  {
   "cell_type": "raw",
   "id": "08b10bfb",
   "metadata": {},
   "source": [
    "import cv2 as cv\n",
    "\n",
    "cap = cv.VideoCapture('vtest.avi')\n",
    "\n",
    "isTrue,frame1=cap.read()\n",
    "isTrue,frame2 = cap.read()\n",
    "\n",
    "while True:\n",
    "    #isTrue,frame = cap.read();\n",
    "    diff = cv.absdiff(frame1,frame2);\n",
    "    gray = cv.cvtColor(diff,cv.COLOR_BGR2GRAY)\n",
    "    blur = cv.GaussianBlur(gray,[5,5],0)\n",
    "    _,thresh = cv.threshold(blur,20,255,cv.THRESH_BINARY)\n",
    "    dilation = cv.dilate(thresh,None,iterations=3)\n",
    "    conures,tree = cv.findContours(dilation,cv.RETR_TREE,cv.CHAIN_APPROX_SIMPLE)\n",
    "    for contur in conures:\n",
    "        (x,y,w,h) = cv.boundingRect(contur)\n",
    "        if(cv.contourArea(contur)<700):\n",
    "            continue\n",
    "        cv2.rectangle(frame1,(x,y),(x+w,y+h),(0,255,0),3)\n",
    "    # cv.drawContours(frame1,conures,-1,(0,255,0),2)\n",
    "    cv.imshow(\"frames\",frame1)\n",
    "    # cv.imshow('another',diff)\n",
    "    frame1=frame2\n",
    "    isTrue,frame2=cap.read()\n",
    "    # cv.imshow(\"video\",frame1)\n",
    "\n",
    "    if cv.waitKey(40) & 0xFF == ord('d'):\n",
    "        break;\n",
    "cv.destroyAllWindows()\n",
    "cap.release()"
   ]
  },
  {
   "cell_type": "markdown",
   "id": "ab588cb1",
   "metadata": {},
   "source": [
    "# THe Hough Transform"
   ]
  },
  {
   "cell_type": "markdown",
   "id": "2a0ff544",
   "metadata": {},
   "source": [
    "The hough transform is a popular technique to detect any shape, if you can represent that shape in a mathematical form. it can detect the shape even if it is broken or distorted a little bit."
   ]
  },
  {
   "cell_type": "raw",
   "id": "c93a007b",
   "metadata": {},
   "source": [
    "step1: face_casde = cv.CascadeClassifier(xmlFile)\n",
    "step2: object = face_casde.detectMultiScale(image,scaleFactor,minNeighbors)\n",
    "    image = matrix of the type CV_8U containing an image where objects are detected.\n",
    "    objects = Vector of tectangles where each rectangle comtains the detected objects, the rectangles may be partiallu outside the original image.\n",
    "    scale Factor = parameter specifying how much the image size is reduced at each image scale.\n",
    "    minNeighbors = parameter specifying how many neighbors each candidate rectangle should have to retain it.\n",
    "step3: cv.rectangle(img,(x,y),(x+w,y+h),(255,0,0),3 )"
   ]
  },
  {
   "cell_type": "markdown",
   "id": "0938b677",
   "metadata": {},
   "source": [
    "# Face recognition"
   ]
  },
  {
   "cell_type": "code",
   "execution_count": null,
   "id": "b72e057a",
   "metadata": {},
   "outputs": [],
   "source": [
    "cmake\n",
    "dlib@19.18.0\n"
   ]
  }
 ],
 "metadata": {
  "kernelspec": {
   "display_name": "Python 3 (ipykernel)",
   "language": "python",
   "name": "python3"
  },
  "language_info": {
   "codemirror_mode": {
    "name": "ipython",
    "version": 3
   },
   "file_extension": ".py",
   "mimetype": "text/x-python",
   "name": "python",
   "nbconvert_exporter": "python",
   "pygments_lexer": "ipython3",
   "version": "3.9.7"
  }
 },
 "nbformat": 4,
 "nbformat_minor": 5
}
